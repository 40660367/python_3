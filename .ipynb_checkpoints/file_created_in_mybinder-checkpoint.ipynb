{
 "cells": [
  {
   "cell_type": "code",
   "execution_count": 1,
   "metadata": {},
   "outputs": [
    {
     "name": "stdout",
     "output_type": "stream",
     "text": [
      "Package              Version   \r\n",
      "-------------------- ----------\r\n",
      "alembic              1.0.5     \r\n",
      "asn1crypto           0.24.0    \r\n",
      "async-generator      1.10      \r\n",
      "attrs                18.2.0    \r\n",
      "backcall             0.1.0     \r\n",
      "bleach               3.0.2     \r\n",
      "certifi              2018.11.29\r\n",
      "cffi                 1.11.5    \r\n",
      "chardet              3.0.4     \r\n",
      "conda                4.5.12    \r\n",
      "cryptography         2.3.1     \r\n",
      "cryptography-vectors 2.3.1     \r\n",
      "decorator            4.3.0     \r\n",
      "defusedxml           0.5.0     \r\n",
      "entrypoints          0.2.3     \r\n",
      "idna                 2.8       \r\n",
      "ipykernel            5.1.0     \r\n",
      "ipython              7.2.0     \r\n",
      "ipython-genutils     0.2.0     \r\n",
      "ipywidgets           7.2.1     \r\n",
      "jedi                 0.13.2    \r\n",
      "Jinja2               2.10      \r\n",
      "jsonschema           3.0.0a3   \r\n",
      "jupyter-client       5.2.4     \r\n",
      "jupyter-core         4.4.0     \r\n",
      "jupyterhub           0.9.4     \r\n",
      "jupyterlab           0.34.9    \r\n",
      "jupyterlab-launcher  0.13.1    \r\n",
      "Mako                 1.0.7     \r\n",
      "MarkupSafe           1.1.0     \r\n",
      "mistune              0.8.4     \r\n",
      "nbconvert            5.4.0     \r\n",
      "nbformat             4.4.0     \r\n",
      "notebook             5.7.4     \r\n",
      "nteract-on-jupyter   1.9.6     \r\n",
      "pamela               0.3.0     \r\n",
      "pandocfilters        1.4.2     \r\n",
      "parso                0.3.1     \r\n",
      "pexpect              4.6.0     \r\n",
      "pickleshare          0.7.5     \r\n",
      "pip                  18.1      \r\n",
      "prometheus-client    0.5.0     \r\n",
      "prompt-toolkit       2.0.7     \r\n",
      "ptyprocess           0.6.0     \r\n",
      "pycosat              0.6.3     \r\n",
      "pycparser            2.19      \r\n",
      "Pygments             2.3.1     \r\n",
      "pyOpenSSL            18.0.0    \r\n",
      "pyrsistent           0.14.7    \r\n",
      "PySocks              1.6.8     \r\n",
      "python-dateutil      2.7.5     \r\n",
      "python-editor        1.0.3     \r\n",
      "python-oauth2        1.1.0     \r\n",
      "pyzmq                17.1.2    \r\n",
      "requests             2.21.0    \r\n",
      "ruamel-yaml          0.15.71   \r\n",
      "Send2Trash           1.5.0     \r\n",
      "setuptools           40.6.3    \r\n",
      "six                  1.12.0    \r\n",
      "SQLAlchemy           1.2.15    \r\n",
      "terminado            0.8.1     \r\n",
      "testpath             0.4.2     \r\n",
      "tornado              5.1.1     \r\n",
      "traitlets            4.3.2     \r\n",
      "urllib3              1.24.1    \r\n",
      "wcwidth              0.1.7     \r\n",
      "webencodings         0.5.1     \r\n",
      "wheel                0.32.3    \r\n",
      "widgetsnbextension   3.2.1     \r\n"
     ]
    }
   ],
   "source": [
    "!pip list"
   ]
  }
 ],
 "metadata": {
  "kernelspec": {
   "display_name": "Python 3",
   "language": "python",
   "name": "python3"
  },
  "language_info": {
   "codemirror_mode": {
    "name": "ipython",
    "version": 3
   },
   "file_extension": ".py",
   "mimetype": "text/x-python",
   "name": "python",
   "nbconvert_exporter": "python",
   "pygments_lexer": "ipython3",
   "version": "3.6.7"
  }
 },
 "nbformat": 4,
 "nbformat_minor": 2
}
